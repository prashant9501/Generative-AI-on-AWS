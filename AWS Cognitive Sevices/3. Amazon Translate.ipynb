{
 "cells": [
  {
   "cell_type": "markdown",
   "id": "1651c39e-2d01-4143-a261-7fd6fc66d4da",
   "metadata": {},
   "source": [
    "# Amazon Translate\n",
    "Amazon Translate is a neural machine translation service that provides fast and accurate language translation. It can translate text into multiple target languages, making it ideal for multilingual communication. "
   ]
  },
  {
   "cell_type": "markdown",
   "id": "202592b7-0e0c-4d0d-befb-5cb4010a4077",
   "metadata": {},
   "source": [
    "### Introduction\n",
    "Amazon Translate can be used for fast, high-quality language translations that can be easily integrated into applications to support multilingual communications. Here's a summary of the key examples in this notebook:\n",
    "\n",
    "1. **Translate Text from English to Spanish**: Simple text translation from one language to another.\n",
    "2. **Translate with Different Language Pairs**: Translating text to multiple languages.\n",
    "3. **Automatically Detect Language**: Detecting the language of input text automatically before translation.\n",
    "4. **Batch Translation**: Translating multiple pieces of text in a batch.\n",
    "\n",
    "These features can be valuable for banking institutions to offer a multilingual experience to their customers. For example, banks can automatically translate customer communications, provide self-service information in various languages, and enhance customer service with multilingual chatbots. This ensures customers from different linguistic backgrounds feel comfortable and have the information they need in their preferred language."
   ]
  },
  {
   "cell_type": "code",
   "execution_count": null,
   "id": "bdce78a9-dccf-4276-b336-0baf4eae56f9",
   "metadata": {},
   "outputs": [],
   "source": []
  },
  {
   "cell_type": "markdown",
   "id": "bc4332be-5275-48a7-b5c1-bc857c496be4",
   "metadata": {},
   "source": [
    "### Use Cases for Amazon Translate\n",
    "**General Use Cases**:\n",
    "1. **Website Localization**: Translating content to provide users with their preferred language for improved engagement.\n",
    "2. **Customer Support**: Translate chat messages, emails, and other customer communications to provide support in the customer's language.\n",
    "3. **Document Translation**: Automate translation of documents for global businesses to make information accessible to various markets.\n",
    "\n",
    "**Banking-Specific Use Cases**:\n",
    "1. **Customer Communication**: Banks can use Amazon Translate to facilitate communication with clients who speak different languages. For instance, a bank can provide translated financial statements to customers in their native language.\n",
    "2. **Multilingual Chatbots**: Banks can create multilingual chatbots to interact with users from diverse linguistic backgrounds, enhancing customer experience.\n",
    "3. **Compliance and Reporting**: Translating compliance-related documentation or regulatory updates to support global customers and regulators."
   ]
  },
  {
   "cell_type": "code",
   "execution_count": null,
   "id": "c05bd136-b8d8-49ae-a5c5-615617ea9872",
   "metadata": {},
   "outputs": [],
   "source": []
  },
  {
   "cell_type": "markdown",
   "id": "1deae099-4841-4f3c-9853-d418702fa8bd",
   "metadata": {},
   "source": [
    "### Step 1: Set Up AWS Credentials and Create the Translate Client\n",
    "First, create an AWS Translate client using your root keys:"
   ]
  },
  {
   "cell_type": "code",
   "execution_count": null,
   "id": "12bb834f-db69-4f5f-a24e-bcc585847913",
   "metadata": {},
   "outputs": [],
   "source": [
    "import boto3\n",
    "\n",
    "# Replace these with your AWS access credentials\n",
    "AWS_ACCESS_KEY_ID = \"AB2TKG3\"\n",
    "AWS_SECRET_ACCESS_KEY = \"UeFcS0sEQjUn\"\n",
    "AWS_REGION_NAME = \"us-west-2\"\n",
    "\n",
    "# Create the AWS Translate client once using root keys\n",
    "translate_client = boto3.client(\n",
    "    'translate',\n",
    "    aws_access_key_id=AWS_ACCESS_KEY_ID,\n",
    "    aws_secret_access_key=AWS_SECRET_ACCESS_KEY,\n",
    "    region_name=AWS_REGION_NAME\n",
    ")"
   ]
  },
  {
   "cell_type": "code",
   "execution_count": null,
   "id": "90e39385-5dd8-4b87-8d0b-231b8bf8f922",
   "metadata": {},
   "outputs": [],
   "source": []
  },
  {
   "cell_type": "markdown",
   "id": "b236c150-5f88-4690-952f-7f2bbc06eff2",
   "metadata": {},
   "source": [
    "### Step 2: Use the Client for Amazon Translate Examples"
   ]
  },
  {
   "cell_type": "markdown",
   "id": "7b4e4641-28bd-4b0d-9be6-13f8ab215ee1",
   "metadata": {},
   "source": [
    "#### Example 1: Translate Text from English to Spanish\n",
    "This example demonstrates how to translate a simple text from English to Spanish."
   ]
  },
  {
   "cell_type": "code",
   "execution_count": 4,
   "id": "2331040b-997f-400d-9185-fa8b2887174c",
   "metadata": {},
   "outputs": [
    {
     "name": "stdout",
     "output_type": "stream",
     "text": [
      "Translated Text (English to German):\n",
      "Willkommen bei Amazon Translate! Es ist toll, dich hier zu sehen.\n"
     ]
    }
   ],
   "source": [
    "text = \"Welcome to Amazon Translate! It is great to see you here.\"\n",
    "\n",
    "# Translate text from English to Spanish\n",
    "response = translate_client.translate_text(\n",
    "    Text=text,\n",
    "    SourceLanguageCode='en',\n",
    "    TargetLanguageCode='de'  # es for spanish\n",
    ")\n",
    "\n",
    "# Display the translated text\n",
    "translated_text = response['TranslatedText']\n",
    "print(\"Translated Text (English to German):\")\n",
    "print(translated_text)"
   ]
  },
  {
   "cell_type": "code",
   "execution_count": null,
   "id": "3546b0e6-7513-4557-9552-74b16593e36a",
   "metadata": {},
   "outputs": [],
   "source": []
  },
  {
   "cell_type": "markdown",
   "id": "46891567-2298-42b1-af7a-79d065d6e353",
   "metadata": {},
   "source": [
    "#### Example 2: Translate Text with Different Language Pairs\n",
    "This example shows how to translate text between multiple language pairs."
   ]
  },
  {
   "cell_type": "code",
   "execution_count": 5,
   "id": "7e175b62-55c1-41f0-90f0-4aff10cd7995",
   "metadata": {},
   "outputs": [
    {
     "name": "stdout",
     "output_type": "stream",
     "text": [
      "Translated Text (English to French):\n",
      "Les services bancaires ont évolué rapidement grâce à la technologie.\n"
     ]
    }
   ],
   "source": [
    "text = \"Banking services have evolved rapidly with technology.\"\n",
    "\n",
    "# Translate text from English to French\n",
    "response_fr = translate_client.translate_text(\n",
    "    Text=text,\n",
    "    SourceLanguageCode='en',\n",
    "    TargetLanguageCode='fr'\n",
    ")\n",
    "print(\"Translated Text (English to French):\")\n",
    "print(response_fr['TranslatedText'])"
   ]
  },
  {
   "cell_type": "code",
   "execution_count": 6,
   "id": "7dc1de33-0b8a-485a-9d0b-0ef3b745bcad",
   "metadata": {},
   "outputs": [
    {
     "name": "stdout",
     "output_type": "stream",
     "text": [
      "\n",
      "Translated Text (English to German):\n",
      "Bankdienstleistungen haben sich mit der Technologie rasant weiterentwickelt.\n"
     ]
    }
   ],
   "source": [
    "# Translate text from English to German\n",
    "response_de = translate_client.translate_text(\n",
    "    Text=text,\n",
    "    SourceLanguageCode='en',\n",
    "    TargetLanguageCode='de'\n",
    ")\n",
    "print(\"\\nTranslated Text (English to German):\")\n",
    "print(response_de['TranslatedText'])"
   ]
  },
  {
   "cell_type": "code",
   "execution_count": null,
   "id": "daa2af4f-8ca0-443c-92da-7222662e94fa",
   "metadata": {},
   "outputs": [],
   "source": []
  },
  {
   "cell_type": "markdown",
   "id": "94c1edae-f5c9-453e-9cb0-8428500fc756",
   "metadata": {},
   "source": [
    "#### Example 3: Automatically Detect Language and Translate\n",
    "If you are unsure about the source language, you can use `auto` as the source language code."
   ]
  },
  {
   "cell_type": "code",
   "execution_count": 7,
   "id": "ab337d35-5db5-4951-837f-788e60d25a71",
   "metadata": {},
   "outputs": [
    {
     "name": "stdout",
     "output_type": "stream",
     "text": [
      "Detected Source Language: es\n",
      "Translated Text (Auto-detected to English):\n",
      "How can I open a bank account with your bank?\n"
     ]
    }
   ],
   "source": [
    "text = \"¿Cómo puedo abrir una cuenta bancaria en su banco?\"\n",
    "\n",
    "# Translate text by auto-detecting the source language and translating to English\n",
    "response = translate_client.translate_text(\n",
    "    Text=text,\n",
    "    SourceLanguageCode='auto',\n",
    "    TargetLanguageCode='en'\n",
    ")\n",
    "\n",
    "# Display the detected language and translated text\n",
    "translated_text = response['TranslatedText']\n",
    "detected_language = response['SourceLanguageCode']\n",
    "print(\"Detected Source Language:\", detected_language)\n",
    "print(\"Translated Text (Auto-detected to English):\")\n",
    "print(translated_text)"
   ]
  },
  {
   "cell_type": "code",
   "execution_count": null,
   "id": "fe0cb44a-e337-49dc-a94c-80e2e6459572",
   "metadata": {},
   "outputs": [],
   "source": []
  },
  {
   "cell_type": "code",
   "execution_count": null,
   "id": "680c1f4c-992a-40f4-9395-e5e7ec5041b8",
   "metadata": {},
   "outputs": [],
   "source": []
  },
  {
   "cell_type": "markdown",
   "id": "ea2e7a0a-ad90-4c4a-9c7c-5dbdb013ac02",
   "metadata": {},
   "source": [
    "#### Example 4: Batch Translation (Multiple Texts)\n",
    "Translate multiple texts in a batch using a loop."
   ]
  },
  {
   "cell_type": "code",
   "execution_count": 8,
   "id": "4c602fd6-6e02-4b63-91dc-2cca424395c8",
   "metadata": {},
   "outputs": [
    {
     "name": "stdout",
     "output_type": "stream",
     "text": [
      "Original: Welcome to our bank!\n",
      "Translated (English to Hindi): हमारे बैंक में आपका स्वागत है!\n",
      "\n",
      "Original: How can I help you today?\n",
      "Translated (English to Hindi): आज मैं आपकी कैसे मदद कर सकता हूं?\n",
      "\n",
      "Original: Your account balance is currently being reviewed.\n",
      "Translated (English to Hindi): वर्तमान में आपके खाते की शेष राशि की समीक्षा की जा रही है।\n",
      "\n"
     ]
    }
   ],
   "source": [
    "texts = [\n",
    "    \"Welcome to our bank!\",\n",
    "    \"How can I help you today?\",\n",
    "    \"Your account balance is currently being reviewed.\"\n",
    "]\n",
    "\n",
    "# Translate each text from English to Hindi\n",
    "for text in texts:\n",
    "    response = translate_client.translate_text(\n",
    "        Text=text,\n",
    "        SourceLanguageCode='en',\n",
    "        TargetLanguageCode='hi'\n",
    "    )\n",
    "    print(f\"Original: {text}\")\n",
    "    print(f\"Translated (English to Hindi): {response['TranslatedText']}\\n\")"
   ]
  },
  {
   "cell_type": "markdown",
   "id": "8da60297-3306-4ddd-8476-3ba6a4553967",
   "metadata": {},
   "source": []
  },
  {
   "cell_type": "code",
   "execution_count": null,
   "id": "dd6b72ab-08a9-4a8c-a2f3-299f806e1632",
   "metadata": {},
   "outputs": [],
   "source": []
  }
 ],
 "metadata": {
  "kernelspec": {
   "display_name": "Python 3 (ipykernel)",
   "language": "python",
   "name": "python3"
  },
  "language_info": {
   "codemirror_mode": {
    "name": "ipython",
    "version": 3
   },
   "file_extension": ".py",
   "mimetype": "text/x-python",
   "name": "python",
   "nbconvert_exporter": "python",
   "pygments_lexer": "ipython3",
   "version": "3.11.9"
  }
 },
 "nbformat": 4,
 "nbformat_minor": 5
}
